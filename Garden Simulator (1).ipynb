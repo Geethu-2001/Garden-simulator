{
 "cells": [
  {
   "cell_type": "code",
   "execution_count": 1,
   "id": "f414e6b4-4b5d-465b-a3d3-01b0220895bb",
   "metadata": {},
   "outputs": [
    {
     "name": "stdout",
     "output_type": "stream",
     "text": [
      "Enter your gardener's name:  Geethu\n"
     ]
    },
    {
     "name": "stdout",
     "output_type": "stream",
     "text": [
      "\n",
      "--- Garden Simulator ---\n",
      "Gardener: Geethu, Garden: Empty, Inventory: Empty\n",
      "1. Forage for seeds\n",
      "2. Plant a seed\n",
      "3. Tend to garden (grow plants)\n",
      "4. Harvest plants\n",
      "5. Exit\n"
     ]
    },
    {
     "name": "stdout",
     "output_type": "stream",
     "text": [
      "Choose an action:  1\n"
     ]
    },
    {
     "name": "stdout",
     "output_type": "stream",
     "text": [
      "Found a Carrot seed!\n",
      "\n",
      "--- Garden Simulator ---\n",
      "Gardener: Geethu, Garden: Empty, Inventory: Carrot\n",
      "1. Forage for seeds\n",
      "2. Plant a seed\n",
      "3. Tend to garden (grow plants)\n",
      "4. Harvest plants\n",
      "5. Exit\n"
     ]
    },
    {
     "name": "stdout",
     "output_type": "stream",
     "text": [
      "Choose an action:  1\n"
     ]
    },
    {
     "name": "stdout",
     "output_type": "stream",
     "text": [
      "Found a Tomato seed!\n",
      "\n",
      "--- Garden Simulator ---\n",
      "Gardener: Geethu, Garden: Empty, Inventory: Carrot, Tomato\n",
      "1. Forage for seeds\n",
      "2. Plant a seed\n",
      "3. Tend to garden (grow plants)\n",
      "4. Harvest plants\n",
      "5. Exit\n"
     ]
    },
    {
     "name": "stdout",
     "output_type": "stream",
     "text": [
      "Choose an action:  2\n"
     ]
    },
    {
     "name": "stdout",
     "output_type": "stream",
     "text": [
      "Inventory: ['Carrot', 'Tomato']\n"
     ]
    },
    {
     "name": "stdout",
     "output_type": "stream",
     "text": [
      "Enter the name of the seed to plant:  Tomato\n"
     ]
    },
    {
     "name": "stdout",
     "output_type": "stream",
     "text": [
      "Planted a Tomato.\n",
      "\n",
      "--- Garden Simulator ---\n",
      "Gardener: Geethu, Garden: Plant: Tomato, Growth Time: 3, Current Time: 0, Harvestable: False, Inventory: Carrot\n",
      "1. Forage for seeds\n",
      "2. Plant a seed\n",
      "3. Tend to garden (grow plants)\n",
      "4. Harvest plants\n",
      "5. Exit\n"
     ]
    },
    {
     "name": "stdout",
     "output_type": "stream",
     "text": [
      "Choose an action:  3\n"
     ]
    },
    {
     "name": "stdout",
     "output_type": "stream",
     "text": [
      "All plants have grown.\n",
      "\n",
      "--- Garden Simulator ---\n",
      "Gardener: Geethu, Garden: Plant: Tomato, Growth Time: 3, Current Time: 1, Harvestable: False, Inventory: Carrot\n",
      "1. Forage for seeds\n",
      "2. Plant a seed\n",
      "3. Tend to garden (grow plants)\n",
      "4. Harvest plants\n",
      "5. Exit\n"
     ]
    },
    {
     "name": "stdout",
     "output_type": "stream",
     "text": [
      "Choose an action:  3\n"
     ]
    },
    {
     "name": "stdout",
     "output_type": "stream",
     "text": [
      "All plants have grown.\n",
      "\n",
      "--- Garden Simulator ---\n",
      "Gardener: Geethu, Garden: Plant: Tomato, Growth Time: 3, Current Time: 2, Harvestable: False, Inventory: Carrot\n",
      "1. Forage for seeds\n",
      "2. Plant a seed\n",
      "3. Tend to garden (grow plants)\n",
      "4. Harvest plants\n",
      "5. Exit\n"
     ]
    },
    {
     "name": "stdout",
     "output_type": "stream",
     "text": [
      "Choose an action:  3\n"
     ]
    },
    {
     "name": "stdout",
     "output_type": "stream",
     "text": [
      "All plants have grown.\n",
      "\n",
      "--- Garden Simulator ---\n",
      "Gardener: Geethu, Garden: Plant: Tomato, Growth Time: 3, Current Time: 3, Harvestable: True, Inventory: Carrot\n",
      "1. Forage for seeds\n",
      "2. Plant a seed\n",
      "3. Tend to garden (grow plants)\n",
      "4. Harvest plants\n",
      "5. Exit\n"
     ]
    },
    {
     "name": "stdout",
     "output_type": "stream",
     "text": [
      "Choose an action:  4\n"
     ]
    },
    {
     "name": "stdout",
     "output_type": "stream",
     "text": [
      "The Tomato is ready to be harvested!\n",
      "\n",
      "--- Garden Simulator ---\n",
      "Gardener: Geethu, Garden: Empty, Inventory: Carrot\n",
      "1. Forage for seeds\n",
      "2. Plant a seed\n",
      "3. Tend to garden (grow plants)\n",
      "4. Harvest plants\n",
      "5. Exit\n"
     ]
    },
    {
     "name": "stdout",
     "output_type": "stream",
     "text": [
      "Choose an action:  5\n"
     ]
    },
    {
     "name": "stdout",
     "output_type": "stream",
     "text": [
      "Exiting the game. Goodbye!\n"
     ]
    }
   ],
   "source": [
    "# Title: Garden Simulator\n",
    "\n",
    "\"\"\"\n",
    "Garden Simulator is a text-based game where players can find new seeds, plant them, and harvest them when ready.\n",
    "Players will be able to interact with a variety of plants, each with its own growth time and characteristics.\n",
    "\"\"\"\n",
    "\n",
    "# Import necessary modules\n",
    "import random\n",
    "\n",
    "# Plant Class\n",
    "class Plant:\n",
    "    def __init__(self, name, growth_time):\n",
    "        self.name = name\n",
    "        self.growth_time = growth_time\n",
    "        self.current_time = 0\n",
    "        self.is_harvestable = False\n",
    "\n",
    "    def grow(self):\n",
    "        if self.current_time < self.growth_time:\n",
    "            self.current_time += 1\n",
    "            if self.current_time >= self.growth_time:\n",
    "                self.is_harvestable = True\n",
    "\n",
    "    def harvest(self):\n",
    "        if self.is_harvestable:\n",
    "            print(f\"The {self.name} is ready to be harvested!\")\n",
    "            return True\n",
    "        else:\n",
    "            print(f\"The {self.name} is not ready to be harvested.\")\n",
    "            return False\n",
    "\n",
    "    def __str__(self):\n",
    "        return f\"Plant: {self.name}, Growth Time: {self.growth_time}, Current Time: {self.current_time}, Harvestable: {self.is_harvestable}\"\n",
    "\n",
    "# Specific Plant Types\n",
    "class Tomato(Plant):\n",
    "    def __init__(self):\n",
    "        super().__init__(\"Tomato\", 3)\n",
    "\n",
    "class Carrot(Plant):\n",
    "    def __init__(self):\n",
    "        super().__init__(\"Carrot\", 2)\n",
    "\n",
    "# Gardener Class\n",
    "class Gardener:\n",
    "    def __init__(self, name):\n",
    "        self.name = name\n",
    "        self.inventory = []\n",
    "        self.garden = []\n",
    "\n",
    "    def plant_seed(self, seed):\n",
    "        if seed in self.inventory:\n",
    "            self.garden.append(seed)\n",
    "            self.inventory.remove(seed)\n",
    "            print(f\"Planted a {seed.name}.\")\n",
    "        else:\n",
    "            print(f\"You don't have a {seed.name} seed.\")\n",
    "\n",
    "    def harvest_plant(self, plant):\n",
    "        if plant.harvest():\n",
    "            self.garden.remove(plant)\n",
    "\n",
    "    def forage(self):\n",
    "        seeds = [Tomato(), Carrot()]\n",
    "        found_seed = random.choice(seeds)\n",
    "        self.inventory.append(found_seed)\n",
    "        print(f\"Found a {found_seed.name} seed!\")\n",
    "\n",
    "    def __str__(self):\n",
    "        garden_str = ', '.join([str(plant) for plant in self.garden]) if self.garden else \"Empty\"\n",
    "        inventory_str = ', '.join([plant.name for plant in self.inventory]) if self.inventory else \"Empty\"\n",
    "        return f\"Gardener: {self.name}, Garden: {garden_str}, Inventory: {inventory_str}\"\n",
    "\n",
    "# Main Game Loop\n",
    "def main():\n",
    "    gardener_name = input(\"Enter your gardener's name: \")\n",
    "    gardener = Gardener(gardener_name)\n",
    "    \n",
    "    while True:\n",
    "        print(\"\\n--- Garden Simulator ---\")\n",
    "        print(gardener)\n",
    "        print(\"1. Forage for seeds\")\n",
    "        print(\"2. Plant a seed\")\n",
    "        print(\"3. Tend to garden (grow plants)\")\n",
    "        print(\"4. Harvest plants\")\n",
    "        print(\"5. Exit\")\n",
    "        \n",
    "        choice = input(\"Choose an action: \")\n",
    "        \n",
    "        if choice == '1':\n",
    "            gardener.forage()\n",
    "        elif choice == '2':\n",
    "            if gardener.inventory:\n",
    "                print(\"Inventory:\", [plant.name for plant in gardener.inventory])\n",
    "                seed_name = input(\"Enter the name of the seed to plant: \")\n",
    "                seed = next((s for s in gardener.inventory if s.name == seed_name), None)\n",
    "                if seed:\n",
    "                    gardener.plant_seed(seed)\n",
    "                else:\n",
    "                    print(\"Seed not found in inventory.\")\n",
    "            else:\n",
    "                print(\"No seeds in inventory.\")\n",
    "        elif choice == '3':\n",
    "            for plant in gardener.garden:\n",
    "                plant.grow()\n",
    "            print(\"All plants have grown.\")\n",
    "        elif choice == '4':\n",
    "            if gardener.garden:\n",
    "                for plant in gardener.garden:\n",
    "                    gardener.harvest_plant(plant)\n",
    "            else:\n",
    "                print(\"No plants in the garden.\")\n",
    "        elif choice == '5':\n",
    "            print(\"Exiting the game. Goodbye!\")\n",
    "            break\n",
    "        else:\n",
    "            print(\"Invalid choice, please try again.\")\n",
    "\n",
    "if __name__ == \"__main__\":\n",
    "    main()\n"
   ]
  }
 ],
 "metadata": {
  "kernelspec": {
   "display_name": "Python 3 (ipykernel)",
   "language": "python",
   "name": "python3"
  },
  "language_info": {
   "codemirror_mode": {
    "name": "ipython",
    "version": 3
   },
   "file_extension": ".py",
   "mimetype": "text/x-python",
   "name": "python",
   "nbconvert_exporter": "python",
   "pygments_lexer": "ipython3",
   "version": "3.10.6"
  }
 },
 "nbformat": 4,
 "nbformat_minor": 5
}
